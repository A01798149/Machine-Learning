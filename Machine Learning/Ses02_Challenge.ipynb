{
  "nbformat": 4,
  "nbformat_minor": 0,
  "metadata": {
    "colab": {
      "provenance": []
    },
    "kernelspec": {
      "name": "python3",
      "display_name": "Python 3"
    },
    "language_info": {
      "name": "python"
    }
  },
  "cells": [
    {
      "cell_type": "markdown",
      "source": [
        "Catherine Johanna Rojas Mendoza\n",
        "A01798149\n",
        "26/08/24"
      ],
      "metadata": {
        "id": "r-0mW8EG_9Iw"
      }
    },
    {
      "cell_type": "markdown",
      "source": [
        "# **Ses02_Challenge.pdf**\n",
        "\n",
        "It has happened. Aliens have arrived. They hail from a planet called Valhalla-23,\n",
        "where the temperature is measured in Valks. These visitors tell you that they have\n",
        "come to solve Earth’s global warming crisis*. They offer you a machine that will\n",
        "solve the problem, but they warn you:\n",
        "1. The machine must be set up in Valks.\n",
        "2. If you input a wrong temperature value, you may end up freezing or scorching\n",
        "the Earth.\n",
        "3. No one knows how to transform between Celsius and Valks.\n",
        "† You are tasked with finding a model for solving this problem, so you ask Humans\n",
        "and Valkians to collect temperature readings from several objects. The data are given\n",
        "in the Valhalla23.csv file\n",
        "\n"
      ],
      "metadata": {
        "id": "5s8C_QqsGaTe"
      }
    },
    {
      "cell_type": "code",
      "source": [
        "# Importar módulos\n",
        "import pandas as pd                                       # para cargar datos\n",
        "from sklearn.model_selection import train_test_split      # train_test_split\n",
        "from sklearn.linear_model import LinearRegression         # regresión y clasificación\n",
        "from sklearn.metrics import mean_squared_error, r2_score  # para puntajes"
      ],
      "metadata": {
        "id": "0ARjswufcT9b"
      },
      "execution_count": 1,
      "outputs": []
    },
    {
      "cell_type": "code",
      "source": [
        "# Cargar datos\n",
        "from google.colab import drive\n",
        "drive.mount('/content/drive')\n",
        "\n",
        "df = pd.read_csv('/content/drive/MyDrive/Inteligencia Artificial Avanzada para la Ciencia de Datos/Machine Learning/Regresion lineal/Vallhala/Valhalla23.csv')"
      ],
      "metadata": {
        "colab": {
          "base_uri": "https://localhost:8080/"
        },
        "id": "CviT93XTcVhd",
        "outputId": "aa3c330b-ae95-4257-db7a-21bfd760dda0"
      },
      "execution_count": 2,
      "outputs": [
        {
          "output_type": "stream",
          "name": "stdout",
          "text": [
            "Drive already mounted at /content/drive; to attempt to forcibly remount, call drive.mount(\"/content/drive\", force_remount=True).\n"
          ]
        }
      ]
    },
    {
      "cell_type": "code",
      "source": [
        "# Seleccionar las variables independiente (Celsius) y dependiente (Valks)\n",
        "X = df[['Celsius']].values\n",
        "y = df['Valks'].values"
      ],
      "metadata": {
        "id": "QTfIGUSzd7xJ"
      },
      "execution_count": 3,
      "outputs": []
    },
    {
      "cell_type": "code",
      "source": [
        "# Dividir el dataset en conjunto de entrenamiento y prueba\n",
        "X_train, X_test, y_train, y_test = train_test_split(X, y, test_size=0.2, random_state=42)\n",
        "\n",
        "# Crear el modelo de regresión lineal\n",
        "model = LinearRegression()\n",
        "\n",
        "# Entrenar el modelo\n",
        "model.fit(X_train, y_train)\n",
        "\n",
        "# Predecir en el conjunto de prueba\n",
        "y_pred = model.predict(X_test)"
      ],
      "metadata": {
        "id": "QNJbP5FadgVq"
      },
      "execution_count": 4,
      "outputs": []
    },
    {
      "cell_type": "markdown",
      "source": [
        "El código divide el conjunto de datos en un 80% para entrenamiento y un 20% para prueba, lo cual es una práctica común para evaluar el rendimiento del modelo. Al probar otras divisiones, como 70% para entrenamiento y 30% para prueba, las métricas de evaluación mostraron una ligera disminución en los puntajes del conjunto de entrenamiento y prueba, mientras que el error cuadrático medio aumentó en aproximadamente 4 unidades. Posteriormente, al probar con una división de 90% para entrenamiento y 10% para prueba, se observó un pequeño incremento en el puntaje del entrenamiento, pero un descenso en el puntaje del conjunto de prueba, junto con un aumento significativo en el error cuadrático medio de alrededor de 8 unidades en comparación con la división 80-20. Analizando estos resultados, se decidió utilizar la división 80-20 para entrenar el modelo.\n"
      ],
      "metadata": {
        "id": "A4WbGO6u0b20"
      }
    },
    {
      "cell_type": "markdown",
      "source": [
        "En este caso, el modelo implementado, LinearRegression utiliza una solución analítica para calcular los coeficientes óptimos de la regresión lineal. Esto se realiza mediante una fórmula matemática que encuentra directamente la mejor línea que minimiza el error cuadrático medio. Por ello no se manejan parámetros como el número de iteraciones, la tasa de aprendizaje o valores iniciales.\n",
        "\n",
        "Sin emabargo, se podría aplicar un modelo SGDRegressor si buscaramos más flexibilidad en el control del proceso de optimización, ya que este permite ajustar estos parámetros, ya que usa un enfoque iterativo (descenso de gradiente) para encontrar la solución pero a costa de una mayor complejidad y potenciales desafíos, como la necesidad de seleccionar adecuadamente los hiperparámetros."
      ],
      "metadata": {
        "id": "pM3uSPRT5b3M"
      }
    },
    {
      "cell_type": "code",
      "source": [
        "# Evaluar el modelo usando el método score\n",
        "train_score = model.score(X_train, y_train)\n",
        "test_score = model.score(X_test, y_test)\n",
        "\n",
        "print(\"Train Score:\", train_score)\n",
        "print(\"Test Score:\", test_score)\n",
        "\n",
        "# Evaluar el modelo usando métricas\n",
        "mse = mean_squared_error(y_test, y_pred)\n",
        "rmse = mean_squared_error(y_test, y_pred, squared=False)\n",
        "r2 = r2_score(y_test, y_pred)\n",
        "\n",
        "print(\"Mean Squared Error:\", mse)\n",
        "print(\"Root Mean Squared Error:\", rmse)\n",
        "print(\"R-squared:\", r2)"
      ],
      "metadata": {
        "colab": {
          "base_uri": "https://localhost:8080/"
        },
        "id": "UmDjMmeAePBN",
        "outputId": "92822ea1-7e75-4096-9b0c-ae23ffe42bd4"
      },
      "execution_count": 5,
      "outputs": [
        {
          "output_type": "stream",
          "name": "stdout",
          "text": [
            "Train Score: 0.993035561819186\n",
            "Test Score: 0.9976240798987097\n",
            "Mean Squared Error: 20.18813776711824\n",
            "Root Mean Squared Error: 4.493121160965753\n",
            "R-squared: 0.9976240798987097\n"
          ]
        }
      ]
    },
    {
      "cell_type": "markdown",
      "source": [
        "Los valores de R^2 tanto en el conjunto de entrenamiento como en el de prueba son extremadamente altos, lo que indica que el modelo tiene un excelente ajuste a los datos y generaliza muy bien a datos no vistos, por lo que se puede decir que tiene un alto rendimiento.\n",
        "\n",
        "Los valores de MSE y RMSE son bajos, lo que indica que el modelo realiza predicciones muy precisas y que los errores de predicción son pequeños.\n",
        "\n",
        "Dado que el test score es incluso un poco mayor que el train score, no parece haber sobreajuste, lo cual es un buen indicativo de que el modelo está bien ajustado y es robusto.\n",
        "\n",
        "Estos resultados indican que el modelo entrenado es altamente efectivo para predecir la relación entre Celsius y Valks en los datos que se han utilizado."
      ],
      "metadata": {
        "id": "sQTtosO67mRH"
      }
    },
    {
      "cell_type": "code",
      "source": [
        "# Imprimir los coeficientes del modelo\n",
        "print(\"Intercepto (theta_0):\", model.intercept_)\n",
        "print(\"Coeficientes (theta_1):\", model.coef_)"
      ],
      "metadata": {
        "colab": {
          "base_uri": "https://localhost:8080/"
        },
        "id": "Td8s4ltheegp",
        "outputId": "e0a3298e-7a74-4574-c05e-5207e3d51d8c"
      },
      "execution_count": 6,
      "outputs": [
        {
          "output_type": "stream",
          "name": "stdout",
          "text": [
            "Intercepto (theta_0): 49.53876671222612\n",
            "Coeficientes (theta_1): [-2.98117122]\n"
          ]
        }
      ]
    },
    {
      "cell_type": "markdown",
      "source": [
        "$$\n",
        "\\text{Valks} = \\theta_0 + \\theta_1 \\times \\text{Celsius}\n",
        "$$\n",
        "\n",
        "Donde:\n",
        "\n",
        "- $\\theta_0$ es el intercepto.\n",
        "- $\\theta_1$ es el coeficiente (la pendiente de la línea de regresión).\n",
        "- Celsius es la variable independiente.\n",
        "\n",
        "Con los valores específicos que has proporcionado:\n",
        "\n",
        "$$\n",
        "\\theta_0 = 49.53876671222612\n",
        "$$\n",
        "\n",
        "$$\n",
        "\\theta_1 = -2.98117122\n",
        "$$\n",
        "\n",
        "La fórmula matemática del modelo sería:\n",
        "\n",
        "$$\n",
        "\\text{Valks} = 49.53876671222612 - 2.98117122 \\times \\text{Celsius}\n",
        "$$\n",
        "\n",
        "\n",
        "Esta fórmula permite predecir el valor de Valks para cualquier valor dado de Celsius.\n",
        "\n",
        "\n",
        "El coeficiente negativo sugiere que existe una relación inversa entre Celsius y Valks, es decir, cuando una aumenta, la otra disminuye.\n",
        "La magnitud del coeficiente indica que la temperatura en Valks cambia significativamente (casi 3 unidades) por cada grado de cambio en Celsius, lo cual es un cambio notable.\n",
        "Esto quiere decir que el modelo predice que, sin importar el valor exacto de Celsius, el valor en Valks comenzará en aproximadamente 49.54 cuando Celsius es 0 y luego disminuirá a una tasa de aproximadamente 2.98 Valks por cada grado Celsius adicional.\n",
        "\n"
      ],
      "metadata": {
        "id": "icDkbyly8tlY"
      }
    },
    {
      "cell_type": "code",
      "source": [
        "import matplotlib.pyplot as plt\n",
        "\n",
        "# Visualizar los resultados\n",
        "plt.scatter(X_test, y_test, color='blue', label='Actual')\n",
        "plt.plot(X_test, y_pred, color='red', linewidth=2, label='Predicted')\n",
        "plt.xlabel('Celsius')\n",
        "plt.ylabel('Valks')\n",
        "plt.title('Linear Regression: Celsius vs Valks')\n",
        "plt.legend()\n",
        "plt.show()\n",
        "\n",
        "# Mostrar los valores predichos\n",
        "predicciones = pd.DataFrame({'Celsius': X_test.flatten(), 'Predicted Valks': y_pred})\n",
        "print(predicciones)"
      ],
      "metadata": {
        "colab": {
          "base_uri": "https://localhost:8080/",
          "height": 836
        },
        "id": "CTa5fPlZ3l-k",
        "outputId": "f691fa6c-10dc-495c-dd5c-3f706c4a225d"
      },
      "execution_count": 7,
      "outputs": [
        {
          "output_type": "display_data",
          "data": {
            "text/plain": [
              "<Figure size 640x480 with 1 Axes>"
            ],
            "image/png": "[encoded data removed]"
          },
          "metadata": {}
        },
        {
          "output_type": "stream",
          "name": "stdout",
          "text": [
            "     Celsius  Predicted Valks\n",
            "0   34.97200       -54.718753\n",
            "1   -3.73880        60.684770\n",
            "2   64.07200      -141.470836\n",
            "3   28.97600       -36.843651\n",
            "4   -1.31270        53.452150\n",
            "5  -16.55500        98.892056\n",
            "6   64.91300      -143.978001\n",
            "7   15.16600         4.326324\n",
            "8   -4.23870        62.175057\n",
            "9   61.47200      -133.719791\n",
            "10  59.22100      -127.009174\n",
            "11  50.60500      -101.323403\n",
            "12   4.35250        36.563219\n",
            "13 -15.38300        95.398124\n",
            "14 -12.41500        86.550007\n",
            "15  43.23600       -79.355152\n",
            "16  -0.34047        50.553766\n",
            "17   5.10840        34.309752\n",
            "18  75.71700      -176.186575\n",
            "19 -16.81700        99.673123\n"
          ]
        }
      ]
    },
    {
      "cell_type": "markdown",
      "source": [
        "La gráfica confirma visualmente que el modelo de regresión lineal es adecuado para describir la relación entre Celsius y Valks en el conjunto de datos, y proporciona predicciones precisas. La relación lineal inversa es claramente visible y bien capturada por el modelo."
      ],
      "metadata": {
        "id": "3IDNBo0W-YqA"
      }
    },
    {
      "cell_type": "code",
      "source": [
        "!jupyter nbconvert --to html \"/content/drive/MyDrive/ColabNotebooks/Ses02_Challenge.ipynb\""
      ],
      "metadata": {
        "colab": {
          "base_uri": "https://localhost:8080/"
        },
        "id": "6RwTEheL_FNI",
        "outputId": "3f2f216c-cc8b-463a-f26e-4e3e47824f94"
      },
      "execution_count": 13,
      "outputs": [
        {
          "output_type": "stream",
          "name": "stdout",
          "text": [
            "[NbConvertApp] Converting notebook /content/drive/MyDrive/ColabNotebooks/Ses02_Challenge.ipynb to html\n",
            "[NbConvertApp] Writing 631446 bytes to /content/drive/MyDrive/ColabNotebooks/Ses02_Challenge.html\n"
          ]
        }
      ]
    }
  ]
}